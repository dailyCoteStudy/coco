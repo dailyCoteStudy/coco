{
 "cells": [
  {
   "cell_type": "markdown",
   "metadata": {},
   "source": [
    "동혁이는 오래된 창고를 뒤지다가 낡은 체스판과 피스를 발견했다.\n",
    "\n",
    "체스판의 먼지를 털어내고 걸레로 닦으니 그럭저럭 쓸만한 체스판이 되었다. \n",
    "하지만, 검정색 피스는 모두 있었으나, 흰색 피스는 개수가 올바르지 않았다.\n",
    "\n",
    "체스는 총 16개의 피스를 사용하며, 킹 1개, 퀸 1개, 룩 2개, 비숍 2개, 나이트 2개, 폰 8개로 \n",
    "구성되어 있다.\n",
    "\n",
    "동혁이가 발견한 흰색 피스의 개수가 주어졌을 때, 몇 개를 더하거나 빼야 올바른 \n",
    "세트가 되는지 구하는 프로그램을 작성하시오.\n",
    "\n",
    "\n",
    "입력\n",
    "첫째 줄에 동혁이가 찾은 흰색 킹, 퀸, 룩, 비숍, 나이트, 폰의 개수가 주어진다. \n",
    "이 값은 0보다 크거나 같고 10보다 작거나 같은 정수이다.\n",
    "\n",
    "출력\n",
    "첫째 줄에 입력에서 주어진 순서대로 몇 개의 피스를 더하거나 빼야 되는지를 출력한다.\n",
    "만약 수가 양수라면 동혁이는 그 개수 만큼 피스를 더해야 하는 것이고, \n",
    "음수라면 제거해야 하는 것이다."
   ]
  },
  {
   "cell_type": "markdown",
   "metadata": {},
   "source": [
    "https://www.acmicpc.net/problem/3003"
   ]
  },
  {
   "cell_type": "code",
   "execution_count": 6,
   "metadata": {},
   "outputs": [
    {
     "name": "stdout",
     "output_type": "stream",
     "text": [
      "-1 0 0 1 0 7\n",
      "[-1, 0, 0, 1, 0, 7]\n"
     ]
    }
   ],
   "source": [
    "King = 1\n",
    "Queen = 1\n",
    "Rook = 2\n",
    "Bishop = 2\n",
    "Knight = 2\n",
    "pawn = 8\n",
    "\n",
    "chess = [King, Queen, Rook, Bishop, Knight, pawn]\n",
    "\n",
    "find = list(map(int, input().split()))\n",
    "# [0 1 2 2 2 7]\n",
    "result = []\n",
    "for i in range(len(chess)):\n",
    "    if (find[i] >= 0) and (find[i] <=10):\n",
    "        num = chess[i] - find[i]\n",
    "        result.append(num)\n",
    "    else:\n",
    "        pass\n",
    "\n",
    "\n",
    "print(*result)\n",
    "print(result)"
   ]
  },
  {
   "cell_type": "markdown",
   "metadata": {},
   "source": [
    "알파벳 소문자로만 이루어진 단어가 주어진다. 이때, 이 단어가 팰린드롬인지 아닌지 확인하는 프로그램을 작성하시오.\n",
    "\n",
    "팰린드롬이란 앞으로 읽을 때와 거꾸로 읽을 때 똑같은 단어를 말한다. \n",
    "\n",
    "level, noon은 팰린드롬이고, baekjoon, online, judge는 팰린드롬이 아니다."
   ]
  },
  {
   "cell_type": "markdown",
   "metadata": {},
   "source": [
    "https://www.acmicpc.net/problem/10988"
   ]
  },
  {
   "cell_type": "code",
   "execution_count": 7,
   "metadata": {},
   "outputs": [],
   "source": [
    "word_lst = list(map(str, input().lower().split(\" \")))\n",
    "\n",
    "for word in word_lst:\n",
    "    if (len(word) >= 1) and (len(word) <= 100):\n",
    "        if word[::] == word[::-1]:\n",
    "            print(1)\n",
    "        else:\n",
    "            print(0)"
   ]
  },
  {
   "cell_type": "markdown",
   "metadata": {},
   "source": [
    "https://www.acmicpc.net/problem/2563"
   ]
  },
  {
   "cell_type": "code",
   "execution_count": 207,
   "metadata": {},
   "outputs": [
    {
     "name": "stdout",
     "output_type": "stream",
     "text": [
      "260\n"
     ]
    }
   ],
   "source": [
    "paper = [[0] * 100 for i in range(100)] \n",
    "\n",
    "num = int(input())\n",
    "\n",
    "hap = 0\n",
    "for k in range(num): # 색종이 3장\n",
    "    lst = list(map(int, input().split(\" \"))) \n",
    "    for i in range(lst[0], lst[0] + 10):\n",
    "        for j in range(lst[1], lst[1] + 10):\n",
    "            paper[i][j] = 1    \n",
    "\n",
    "\n",
    "for row in paper:\n",
    "    hap += sum(row)\n",
    "\n",
    "\n",
    "print(hap)"
   ]
  },
  {
   "cell_type": "code",
   "execution_count": 1,
   "metadata": {},
   "outputs": [
    {
     "name": "stdout",
     "output_type": "stream",
     "text": [
      "[0, 0, 0, 0, 0, 0, 0, 0, 0, 0]\n",
      "[0, 1, 1, 1, 1, 1, 0, 0, 0, 0]\n",
      "[0, 1, 1, 1, 1, 1, 0, 0, 0, 0]\n",
      "[0, 1, 1, 1, 1, 1, 0, 0, 0, 0]\n",
      "[0, 0, 1, 1, 1, 0, 0, 0, 0, 0]\n",
      "[0, 0, 0, 0, 0, 0, 0, 0, 0, 0]\n",
      "[0, 0, 0, 0, 0, 0, 0, 0, 0, 0]\n",
      "[0, 0, 0, 0, 0, 0, 0, 0, 0, 0]\n",
      "[0, 0, 0, 0, 0, 0, 0, 0, 0, 0]\n",
      "[0, 0, 0, 0, 0, 0, 0, 0, 0, 0]\n",
      "18\n"
     ]
    }
   ],
   "source": [
    "paper = [[0] * 10 for i in range(10)] \n",
    "\n",
    "num = int(input())\n",
    "\n",
    "hap = 0\n",
    "for k in range(num):\n",
    "    lst = list(map(int, input().split(\" \")))\n",
    "    for i in range(lst[0], lst[0] + 3):\n",
    "        for j in range(lst[1], lst[1] + 3):\n",
    "            paper[i][j] = 1    \n",
    "\n",
    "for row in paper:\n",
    "    hap += sum(row)\n",
    "    print(row)\n",
    "\n",
    "print(hap)\n",
    "# print(cnt)"
   ]
  },
  {
   "cell_type": "code",
   "execution_count": 25,
   "metadata": {},
   "outputs": [
    {
     "name": "stdout",
     "output_type": "stream",
     "text": [
      "factor\n"
     ]
    }
   ],
   "source": [
    "while True:\n",
    "    lst = list(map(int, input().split(\" \")))\n",
    "\n",
    "    if (lst[0] != 0) & (lst[1] != 0):\n",
    "        if lst[1] % lst[0] == 0:\n",
    "            print(\"factor\")\n",
    "        elif lst[0] % lst[1] == 0:\n",
    "            print(\"multiple\")\n",
    "        else:\n",
    "            print(\"neither\")\n",
    "    else:\n",
    "         break\n"
   ]
  },
  {
   "cell_type": "code",
   "execution_count": null,
   "metadata": {},
   "outputs": [],
   "source": []
  }
 ],
 "metadata": {
  "kernelspec": {
   "display_name": "base",
   "language": "python",
   "name": "python3"
  },
  "language_info": {
   "codemirror_mode": {
    "name": "ipython",
    "version": 3
   },
   "file_extension": ".py",
   "mimetype": "text/x-python",
   "name": "python",
   "nbconvert_exporter": "python",
   "pygments_lexer": "ipython3",
   "version": "3.9.13"
  }
 },
 "nbformat": 4,
 "nbformat_minor": 2
}
