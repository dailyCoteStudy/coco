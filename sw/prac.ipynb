{
 "cells": [
  {
   "cell_type": "code",
   "execution_count": null,
   "metadata": {},
   "outputs": [],
   "source": [
    "# 두 정수 A와 B가 주어졌을 때, A와 B를 비교하는 프로그램을 작성하시오.\n",
    "\n",
    "# 첫째 줄에 다음 세 가지 중 하나를 출력한다.\n",
    "\n",
    "# A가 B보다 큰 경우에는 '>'를 출력한다.\n",
    "# A가 B보다 작은 경우에는 '<'를 출력한다.\n",
    "# A와 B가 같은 경우에는 '=='를 출력한다.\n",
    "\n",
    "# -10,000 ≤ A, B ≤ 10,000\n",
    "\n",
    "a = int(input())\n",
    "b = int(input())\n",
    "\n",
    "if (-10000 <= a <= 10000) and (-10000 <= b <= 10000):\n",
    "    if a > b:\n",
    "        print('>')\n",
    "    elif a < b:\n",
    "        print('<')\n",
    "    elif a==b:\n",
    "        print('==')\n",
    "    "
   ]
  },
  {
   "cell_type": "code",
   "execution_count": null,
   "metadata": {},
   "outputs": [],
   "source": []
  }
 ],
 "metadata": {
  "language_info": {
   "name": "python"
  }
 },
 "nbformat": 4,
 "nbformat_minor": 2
}
