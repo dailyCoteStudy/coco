{
 "cells": [
  {
   "cell_type": "code",
   "execution_count": 60,
   "metadata": {},
   "outputs": [],
   "source": [
    "lst = list(map(int, input().split(\" \")))\n",
    "\n",
    "result = 0\n",
    "cnt = 0\n",
    "\n",
    "for i in range(int(lst[2])):\n",
    "    result += lst[0]\n",
    "    cnt +=  1 \n",
    "    if result >= lst[2]:\n",
    "        print(cnt)\n",
    "        break\n",
    "\n",
    "    result -= lst[1]"
   ]
  },
  {
   "cell_type": "code",
   "execution_count": 109,
   "metadata": {},
   "outputs": [
    {
     "name": "stdout",
     "output_type": "stream",
     "text": [
      "999999901\n"
     ]
    }
   ],
   "source": [
    "lst = list(map(int, input().split(\" \")))\n",
    "\n",
    "result = 0\n",
    "day = 0\n",
    "\n",
    "while True:\n",
    "    if lst[0] - lst[1] == 1:\n",
    "        result = lst[2] - lst[1]\n",
    "        break    \n",
    "    result += lst[0]\n",
    "    day += 1\n",
    "    if result >= lst[2]:\n",
    "        print(day)\n",
    "        break\n",
    "    \n",
    "    result -= lst[1]\n",
    "print(result)"
   ]
  },
  {
   "cell_type": "code",
   "execution_count": 119,
   "metadata": {},
   "outputs": [
    {
     "name": "stdout",
     "output_type": "stream",
     "text": [
      "10.0\n",
      "31622.776601683792\n",
      "9.9498743710662\n"
     ]
    }
   ],
   "source": [
    "import math\n",
    "print(math.sqrt(100))\n",
    "print(math.sqrt(1000000000))\n",
    "print(math.sqrt(99))"
   ]
  },
  {
   "cell_type": "code",
   "execution_count": 145,
   "metadata": {},
   "outputs": [
    {
     "name": "stdout",
     "output_type": "stream",
     "text": [
      "4\n"
     ]
    }
   ],
   "source": [
    "lst = list(map(int, input().split(\" \")))\n",
    "\n",
    "day = 1\n",
    "result = 0\n",
    "while True:\n",
    "    if (lst[0] - lst[1]) * day >= lst[2]:\n",
    "        print(day)\n",
    "        break\n",
    "    elif (lst[0] - lst[1]) == 1:\n",
    "        result = lst[2] - lst[1]\n",
    "        print(result)\n",
    "        break\n",
    "    day += 1"
   ]
  },
  {
   "cell_type": "code",
   "execution_count": 67,
   "metadata": {},
   "outputs": [
    {
     "name": "stdout",
     "output_type": "stream",
     "text": [
      "[1, 2, 3]\n",
      "6\n"
     ]
    }
   ],
   "source": [
    "import math\n",
    "lst = list(map(int, input().split(\" \")))\n",
    "lst = sorted(lst)\n",
    "print(lst)\n",
    "diagonal = lst[2]\n",
    "line1 = lst[1]\n",
    "line2 = lst[0]\n",
    "\n",
    "if diagonal == line2:\n",
    "    print(3*line2)\n",
    "\n",
    "elif line1 == line2:\n",
    "    diagonal = int(line1 * (2**0.5))\n",
    "    print(line1+line2+diagonal)\n",
    "\n",
    "else:\n",
    "    diagonal = line1 + line2\n",
    "    print(diagonal + line1 + line2)\n",
    "    \n"
   ]
  },
  {
   "cell_type": "code",
   "execution_count": 57,
   "metadata": {},
   "outputs": [
    {
     "data": {
      "text/plain": [
       "27.712812921102035"
      ]
     },
     "execution_count": 57,
     "metadata": {},
     "output_type": "execute_result"
    }
   ],
   "source": [
    "16* math.sqrt(3)"
   ]
  },
  {
   "cell_type": "code",
   "execution_count": 61,
   "metadata": {},
   "outputs": [
    {
     "data": {
      "text/plain": [
       "44.01136216933077"
      ]
     },
     "execution_count": 61,
     "metadata": {},
     "output_type": "execute_result"
    }
   ],
   "source": [
    "math.sqrt(16**2 + 41**2)"
   ]
  },
  {
   "cell_type": "code",
   "execution_count": null,
   "metadata": {},
   "outputs": [],
   "source": [
    "'''\n",
    "문제 출처 : 폴리텍 수업자료 연습문제\n",
    "'''\n",
    "\n",
    "# 1) 서로 다른 영상 2개를 읽어 각각 img1과 img2 변수에 저장하고 서로 다른 윈도우에 디스플레이하는 프로그램을 작성하시오\n",
    "# import cv2 as cv\n",
    "# import sys\n",
    "\n",
    "# img1 = cv.imread(\"./img/lane.jpg\")\n",
    "# img2 = cv.imread(\"./img/soccer.jpg\")\n",
    "\n",
    "# if img1 is None:\n",
    "#     sys.exit(\"파일을 찾을 수 없습니다.\")\n",
    "# if img2 is None:\n",
    "#     sys.exit(\"파일을 찾을 수 없습니다.\")\n",
    "\n",
    "\n",
    "# cv.imshow('img1', img1)\n",
    "# cv.imshow('img2', img2)\n",
    "\n",
    "# cv.waitKey()\n",
    "# cv.destroyAllWindows()\n",
    "\n",
    "\n",
    "# 2) 0.1, 0.3, 0.5, 0.8의 비율로 축소한 영상 4개를 서로 다른 윈도우에 디스플레이하는 프로그램을 작성하시오.\n",
    "# import cv2 as cv\n",
    "# import sys\n",
    "\n",
    "# rate = [0.1, 0.3, 0.5, 0.8]\n",
    "\n",
    "# img1 = cv.imread('./img/soccer.jpg')\n",
    "# if img1 is None:\n",
    "#     sys.exit(\"파일을 찾을 수 없습니다.\")\n",
    "\n",
    "# for i in range(len(rate)):\n",
    "#     resize_img = cv.resize(img1, (0,0), fx=rate[i], fy=rate[i])\n",
    "    \n",
    "#     cv.imshow(f'resize {rate[i]}', resize_img)\n",
    "\n",
    "# cv.waitKey(0)\n",
    "# cv.destroyAllWindows()\n",
    "\n",
    "\n",
    "# 3) 동영상 재생 중 사용자가 'g'를 입력하면 명암영상(grayscale)을 디스플레이하고,\n",
    "# 'c'를 입력하면 컬러영상(원본)을 디스플레이하도록 프로그램을 작성하시오.\n",
    "\n",
    "# import cv2 as cv\n",
    "# import sys\n",
    "\n",
    "# video = cv.VideoCapture('img/surfing.mp4')\n",
    "\n",
    "# if not video.isOpened():\n",
    "#     print(\"비디오 파일을 열 수 없습니다.\")\n",
    "#     exit()\n",
    "\n",
    "# is_gray = False\n",
    "\n",
    "# while True:\n",
    "#     ret, frame = video.read()\n",
    "#     if not ret:\n",
    "#         print(\"프레임을 읽어오지 못했습니다.\")\n",
    "#         break\n",
    "\n",
    "#     if is_gray:\n",
    "#         gray_frame = cv.cvtColor(frame, cv.COLOR_BGR2GRAY)\n",
    "#         cv.imshow('frame', gray_frame)\n",
    "#     else:\n",
    "#         cv.imshow('frame', frame)\n",
    "\n",
    "#     key = cv.waitKey(30)\n",
    "\n",
    "#     if key == ord('g'):\n",
    "#         is_gray = True\n",
    "#     elif key==ord('c'):\n",
    "#         is_gray = False\n",
    "#     elif key==ord('q'):\n",
    "#         cv.destroyAllWindows()\n",
    "#         break\n",
    "\n",
    "# video.release()\n",
    "# cv.destroyAllWindows()\n",
    "\n",
    "\n",
    "# 4) 'cv.arrowedLine'를 이용하여 'laugh'글자가 직사각형을 가리키도록 프로그램을 작성(수정)하시오.\n",
    "# 유인물 프로그램 2-6 참고\n",
    "\n",
    "# import cv2 as cv\n",
    "# import sys\n",
    "\n",
    "# img = cv.imread('./img/girl_laughing.jpg')\n",
    "\n",
    "# if img is None:\n",
    "#     sys.exit('파일을 찾을 수 없습니다.')\n",
    "\n",
    "# cv.rectangle(img,(830,30),(1000,200),(0,0,255),2)\n",
    "# cv.putText(img,'laugh',(700,24),cv.FONT_HERSHEY_SIMPLEX,1,(255,0,0),2)\n",
    "# cv.arrowedLine(img, (780,30), (820,50),(0,0,255), 3)\n",
    "\n",
    "# cv.imshow('Draw', img)\n",
    "\n",
    "# while(True):\n",
    "#     if cv.waitKey() == ord('q'):\n",
    "#         cv.destroyAllWindows()\n",
    "#         break\n",
    "\n",
    "\n",
    "# 5) 왼쪽 버튼을 클릭하면 직사각형, 오른쪽 버튼을 클릭하면 원이 그려지도록 프로그램을 작성하시오.\n",
    "# cv.circle\n",
    "\n",
    "# import cv2 as cv\n",
    "# import sys\n",
    "\n",
    "# img=cv.imread('img/girl_laughing.jpg')\n",
    "\n",
    "# if img is None:\n",
    "#     sys.exit('파일을 찾을 수 없습니다.')\n",
    "\n",
    "# def draw(event, x, y, flags, param):\n",
    "#     global ix, iy\n",
    "\n",
    "#     if event == cv.EVENT_LBUTTONDOWN: # 마우스 왼쪽 버튼 클릭했을 때 초기 위치 저장\n",
    "#         ix, iy = x,y\n",
    "#     elif event == cv.EVENT_LBUTTONUP:\n",
    "#         cv.rectangle(img,(ix,iy),(x,y),(0,0,255),2)\n",
    "\n",
    "#     elif event == cv.EVENT_RBUTTONDOWN:\n",
    "#         ix, iy = x,y\n",
    "#     elif event == cv.EVENT_RBUTTONUP:\n",
    "#         radius = int(((x-ix)**2+(y-iy)**2)**0.5) # 반지름 계산\n",
    "#         cv.circle(img,(ix,iy),radius,(255,0,0), 2)\n",
    "\n",
    "#     cv.imshow('Drawing', img)\n",
    "\n",
    "# cv.namedWindow('Drawing')\n",
    "# cv.imshow('Drawing', img)\n",
    "\n",
    "# cv.setMouseCallback(\"Drawing\", draw)\n",
    "\n",
    "# while(True):\n",
    "#     if cv.waitKey(1) == ord('q'):\n",
    "#         cv.destroyAllWindows()\n",
    "#         break"
   ]
  }
 ],
 "metadata": {
  "kernelspec": {
   "display_name": "base",
   "language": "python",
   "name": "python3"
  },
  "language_info": {
   "codemirror_mode": {
    "name": "ipython",
    "version": 3
   },
   "file_extension": ".py",
   "mimetype": "text/x-python",
   "name": "python",
   "nbconvert_exporter": "python",
   "pygments_lexer": "ipython3",
   "version": "3.11.7"
  }
 },
 "nbformat": 4,
 "nbformat_minor": 2
}
