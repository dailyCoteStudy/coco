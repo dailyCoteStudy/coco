{
 "cells": [
  {
   "cell_type": "code",
   "execution_count": 35,
   "metadata": {},
   "outputs": [
    {
     "name": "stdout",
     "output_type": "stream",
     "text": [
      "[1, 5, 547, 2735]\n",
      "1\n"
     ]
    }
   ],
   "source": [
    "# 약수 구하기 (백준2501번)\n",
    "\n",
    "lst = list(map(int, input().split(\" \")))\n",
    "\n",
    "factor = []\n",
    "for i in range(1,lst[0]+1):\n",
    "    if lst[0] % i == 0:\n",
    "        factor.append(i)\n",
    "\n",
    "factor = sorted(factor)\n",
    "if len(factor) >= lst[1]:\n",
    "    print(factor[lst[1]-1])\n",
    "else:\n",
    "    print(0)"
   ]
  },
  {
   "cell_type": "code",
   "execution_count": 74,
   "metadata": {},
   "outputs": [],
   "source": [
    "# 백준 9506번\n",
    "\n",
    "while True:\n",
    "    num = int(input())\n",
    "\n",
    "    if (num > 2) & (num < 100000):\n",
    "        factor = []\n",
    "        for i in range(1, num):\n",
    "            if num % i == 0:\n",
    "                factor.append(i)\n",
    "\n",
    "        if sum(factor) == num:\n",
    "            print(f\"{num} = {' + '.join(map(str,factor))}\")\n",
    "        else:\n",
    "            print(f\"{num} is NOT perfect.\")\n",
    "    elif num == -1:\n",
    "        break  "
   ]
  },
  {
   "cell_type": "code",
   "execution_count": null,
   "metadata": {},
   "outputs": [],
   "source": []
  }
 ],
 "metadata": {
  "kernelspec": {
   "display_name": "base",
   "language": "python",
   "name": "python3"
  },
  "language_info": {
   "codemirror_mode": {
    "name": "ipython",
    "version": 3
   },
   "file_extension": ".py",
   "mimetype": "text/x-python",
   "name": "python",
   "nbconvert_exporter": "python",
   "pygments_lexer": "ipython3",
   "version": "3.11.7"
  }
 },
 "nbformat": 4,
 "nbformat_minor": 2
}
